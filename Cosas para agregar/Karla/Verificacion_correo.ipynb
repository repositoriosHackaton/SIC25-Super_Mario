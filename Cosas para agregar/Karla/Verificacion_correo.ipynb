{
  "cells": [
    {
      "cell_type": "code",
      "execution_count": 9,
      "metadata": {
        "id": "2cB4TSGhgkjx"
      },
      "outputs": [],
      "source": [
        "import smtplib\n",
        "from email.mime.text import MIMEText\n",
        "from email.message import EmailMessage\n",
        "import random\n",
        "import string"
      ]
    },
    {
      "cell_type": "code",
      "execution_count": 6,
      "metadata": {
        "colab": {
          "base_uri": "https://localhost:8080/"
        },
        "id": "I8ZTk40Xha5i",
        "outputId": "a205f8c8-e0a2-4463-9cc5-a7834a72b4ae"
      },
      "outputs": [
        {
          "name": "stdout",
          "output_type": "stream",
          "text": [
            "v9Jygk2K\n"
          ]
        }
      ],
      "source": [
        "def generacion_de_codigo(ongitud=8):\n",
        "  caracteres = string.ascii_letters + string.digits\n",
        "  codigo = ''.join(random.choice(caracteres) for _ in range(ongitud))\n",
        "  return codigo\n"
      ]
    },
    {
      "cell_type": "code",
      "execution_count": null,
      "metadata": {
        "id": "O4ICIyX8idNj"
      },
      "outputs": [],
      "source": [
        "html_body = \"\"\"\n",
        "  <html>\n",
        "      <p>Estimado/a {nombre del usuario} </p>\n",
        "      <p>Su codigo de verificación es: <strong> {codigo de ususario}, </strong></p>\n",
        "      <p>Gracias por su registro.</p>\n",
        "  </html>\n",
        "\"\"\"\n",
        "\n",
        "\n",
        "from email.mime.multipart import MIMEMultipart\n",
        "def conexion():\n",
        "  smtb_direccion= \"smtp.gmail.com\"\n",
        "  smtb_puerto = 587\n",
        "  smtb_obj = smtplib.SMTP(smtb_direccion,smtb_puerto)\n",
        "  smtb_obj.starttls()\n",
        "  return smtb_obj\n",
        "\n",
        "def autentifición(smtb_obj):\n",
        "  main_usuario= \"sanmartindeporres985@gmail.com\"\n",
        "  main_contraseña = \"xxxb pvft zqad gqea\"\n",
        "  smtb_obj.login(user=main_usuario, password=main_contraseña)\n",
        "\n",
        "\n",
        "\n",
        "def destinario(correo_destino, codigo, smtp_obj, nombre_usuario):\n",
        "  mail_emisor= \"sanmartindeporres985@gmail.com\"\n",
        "  mail_to = correo_destino\n",
        "  email_message = MIMEMultipart(nombre_usuario + codigo)\n",
        "  email_message[\"From\"] = mail_emisor\n",
        "  email_message[\"To\"] = mail_to\n",
        "  email_message[\"Subject\"] = \"Codigo de verificacion\"\n",
        "  body_html= html_body.format(nombre_usuario= nombre_usuario,\n",
        "                            codigo_usuario= codigo)\n",
        "  email_message= attach(MIMEText(body_html, \"html\")\n",
        "  smtp_obj.sendmail(main_usuario, mail_to, email_message.as_string())\n",
        "\n",
        "\n",
        "def enviar_correo(correo):\n",
        "  codigo_1= generar_codigo_verificacion()\n",
        "  smtp_obj = conexion()\n",
        "  autenticacion= autenticación(smtp_obj)\n",
        "  destinario(correo, codigo_1, smtp_re, nombre_usuario)\n",
        "\n",
        "  return codigo_1\n",
        "\n",
        "correo= \"correo de prueba\"\n",
        "\n",
        "x=  [1, 2, 3]\n",
        "y = 3\n",
        "\n",
        "#registro.\n",
        "\n",
        "codigo_asignado= enviar_correo(correo_usuario)\n",
        "smtp.quit()\n",
        "\n",
        "while y in x:\n",
        "  codigo_ingresado = input(\"ingrese el codigo de verificacion: \")\n",
        "  if codigo_ingresado == codigo_asignado:\n",
        "    print(\"registro exitoso\")\n",
        "    break\n",
        "  else:\n",
        "    print(\"registro fallido\")\n",
        "\n"
      ]
    }
  ],
  "metadata": {
    "colab": {
      "provenance": []
    },
    "kernelspec": {
      "display_name": "Python 3",
      "name": "python3"
    },
    "language_info": {
      "name": "python"
    }
  },
  "nbformat": 4,
  "nbformat_minor": 0
}
